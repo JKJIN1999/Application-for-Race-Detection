{
  "nbformat": 4,
  "nbformat_minor": 0,
  "metadata": {
    "colab": {
      "name": "Human_Race_Detection.ipynb",
      "provenance": [],
      "collapsed_sections": []
    },
    "kernelspec": {
      "name": "python3",
      "display_name": "Python 3"
    },
    "accelerator": "GPU"
  },
  "cells": [
    {
      "cell_type": "markdown",
      "metadata": {
        "id": "chJcL5taJMJH",
        "colab_type": "text"
      },
      "source": [
        "# Import Required data"
      ]
    },
    {
      "cell_type": "code",
      "metadata": {
        "id": "oKGASOf9-O9f",
        "colab_type": "code",
        "colab": {
          "base_uri": "https://localhost:8080/",
          "height": 34
        },
        "outputId": "e5014029-a8ec-4a2e-922a-2652ef74b5c9"
      },
      "source": [
        "import os\n",
        "import tensorflow as tf\n",
        "from tensorflow.keras import layers\n",
        "from tensorflow.keras import Model\n",
        "from sklearn.preprocessing import LabelBinarizer\n",
        "from keras.callbacks import ModelCheckpoint\n",
        "from keras.optimizers import SGD\n",
        "from keras.datasets import cifar10\n",
        "from tensorflow.keras.optimizers import RMSprop\n",
        "from tensorflow.keras.preprocessing.image import ImageDataGenerator\n",
        "import numpy as np\n",
        "import matplotlib.pyplot as plt\n"
      ],
      "execution_count": null,
      "outputs": [
        {
          "output_type": "stream",
          "text": [
            "Using TensorFlow backend.\n"
          ],
          "name": "stderr"
        }
      ]
    },
    {
      "cell_type": "markdown",
      "metadata": {
        "id": "H7WytAIOJSgp",
        "colab_type": "text"
      },
      "source": [
        "# Clone the Face dataset from GitHub"
      ]
    },
    {
      "cell_type": "code",
      "metadata": {
        "id": "FCCS97fMVxVs",
        "colab_type": "code",
        "colab": {
          "base_uri": "https://localhost:8080/",
          "height": 193
        },
        "outputId": "d33f23f3-853c-457f-bbc0-9a557ef6060a"
      },
      "source": [
        "# Collect the URL for Fruit dataset\n",
        "URL_FACE = 'https://github.com/JKJIN1999/Race_Face'\n",
        "\n",
        "%cd /content\n",
        "FACE_DIR= os.path.abspath(os.path.join('.', os.path.basename(URL_FACE)))\n",
        "!git clone {URL_FACE}\n",
        "%cd {FACE_DIR}\n",
        "!git pull"
      ],
      "execution_count": null,
      "outputs": [
        {
          "output_type": "stream",
          "text": [
            "/content\n",
            "Cloning into 'Race_Face'...\n",
            "remote: Enumerating objects: 554, done.\u001b[K\n",
            "remote: Counting objects: 100% (554/554), done.\u001b[K\n",
            "remote: Compressing objects: 100% (229/229), done.\u001b[K\n",
            "remote: Total 554 (delta 325), reused 553 (delta 324), pack-reused 0\u001b[K\n",
            "Receiving objects: 100% (554/554), 8.37 MiB | 28.39 MiB/s, done.\n",
            "Resolving deltas: 100% (325/325), done.\n",
            "/content/Race_Face\n",
            "Already up to date.\n"
          ],
          "name": "stdout"
        }
      ]
    },
    {
      "cell_type": "markdown",
      "metadata": {
        "id": "VlunVnksJYy1",
        "colab_type": "text"
      },
      "source": [
        "# Set Direction for Train and Test"
      ]
    },
    {
      "cell_type": "code",
      "metadata": {
        "id": "3U6SjGQoAJFo",
        "colab_type": "code",
        "colab": {}
      },
      "source": [
        "base_dir = '/content/Race_Face/data'\n",
        "train_dir = os.path.join(base_dir, 'Train')\n",
        "validation_dir = os.path.join(base_dir, 'Test')"
      ],
      "execution_count": null,
      "outputs": []
    },
    {
      "cell_type": "markdown",
      "metadata": {
        "id": "dGe3jb-WJdvl",
        "colab_type": "text"
      },
      "source": [
        "# Create each generator for train, test, and validation"
      ]
    },
    {
      "cell_type": "code",
      "metadata": {
        "id": "T8BK1qs7DwSW",
        "colab_type": "code",
        "colab": {
          "base_uri": "https://localhost:8080/",
          "height": 70
        },
        "outputId": "b68cf231-0e0e-4055-f03d-7308bb93bbdf"
      },
      "source": [
        "train_datagen = ImageDataGenerator(rescale=1./255,\n",
        "                                   rotation_range=40,\n",
        "      width_shift_range=0.2,\n",
        "      height_shift_range=0.2,\n",
        "      shear_range=0.2,\n",
        "      zoom_range=0.2,\n",
        "      horizontal_flip=True,\n",
        "      fill_mode='nearest',\n",
        "      validation_split=0.2)\n",
        "test_datagen = ImageDataGenerator(rescale=1./255)\n",
        "\n",
        "# Flow training images in batches of 20 using train_datagen generator\n",
        "train_generator = train_datagen.flow_from_directory(\n",
        "        train_dir,  # This is the source directory for training images\n",
        "        target_size=(224, 224),  # All images will be resized to 100x100\n",
        "        batch_size=32,\n",
        "        # Using categorical classmode since there are 130 labels\n",
        "        class_mode='categorical',\n",
        "        subset='training')\n",
        "\n",
        "# Flow validation images in batches of 20 using test_datagen generator\n",
        "validation_generator = train_datagen.flow_from_directory(\n",
        "        train_dir,\n",
        "        target_size=(224, 224),\n",
        "        batch_size=32,\n",
        "        class_mode='categorical',\n",
        "        subset='validation')\n",
        "\n",
        "# Flow test images in batches of 20 using test_datagen generator\n",
        "test_generator = test_datagen.flow_from_directory(\n",
        "        validation_dir,\n",
        "        target_size=(224, 224),\n",
        "        batch_size=32,\n",
        "        class_mode='categorical')"
      ],
      "execution_count": null,
      "outputs": [
        {
          "output_type": "stream",
          "text": [
            "Found 330 images belonging to 5 classes.\n",
            "Found 80 images belonging to 5 classes.\n",
            "Found 126 images belonging to 5 classes.\n"
          ],
          "name": "stdout"
        }
      ]
    },
    {
      "cell_type": "markdown",
      "metadata": {
        "id": "yRExZrAYJjX8",
        "colab_type": "text"
      },
      "source": [
        "# Check dataset"
      ]
    },
    {
      "cell_type": "code",
      "metadata": {
        "id": "cAidBcxtD6SA",
        "colab_type": "code",
        "colab": {
          "base_uri": "https://localhost:8080/",
          "height": 34
        },
        "outputId": "cb8357cc-625b-4db8-9fa4-8e07b9c341fb"
      },
      "source": [
        "for image_batch, label_batch in train_generator:\n",
        "  break\n",
        "image_batch.shape, label_batch.shape"
      ],
      "execution_count": null,
      "outputs": [
        {
          "output_type": "execute_result",
          "data": {
            "text/plain": [
              "((32, 224, 224, 3), (32, 5))"
            ]
          },
          "metadata": {
            "tags": []
          },
          "execution_count": 19
        }
      ]
    },
    {
      "cell_type": "code",
      "metadata": {
        "id": "goVpaJxeD9Zq",
        "colab_type": "code",
        "colab": {
          "base_uri": "https://localhost:8080/",
          "height": 34
        },
        "outputId": "853867c3-f3ea-4b2c-d0d4-523f3f375448"
      },
      "source": [
        "print (train_generator.class_indices)\n",
        "\n",
        "labels = '\\n'.join(sorted(train_generator.class_indices.keys()))\n",
        "\n",
        "with open('labels.txt', 'w') as f:\n",
        "  f.write(labels)"
      ],
      "execution_count": null,
      "outputs": [
        {
          "output_type": "stream",
          "text": [
            "{'African American': 0, 'Caucasian': 1, 'East Asian': 2, 'Hispanic': 3, 'Indian Asian': 4}\n"
          ],
          "name": "stdout"
        }
      ]
    },
    {
      "cell_type": "markdown",
      "metadata": {
        "id": "91neMzeOJnYA",
        "colab_type": "text"
      },
      "source": [
        "# Import MobileNet V2 and freeze every model except the top layer"
      ]
    },
    {
      "cell_type": "code",
      "metadata": {
        "id": "hznK2Of-EW_e",
        "colab_type": "code",
        "colab": {}
      },
      "source": [
        "# Create the base model from the pre-trained model MobileNet V2\n",
        "base_model = tf.keras.applications.MobileNetV2(input_shape=(224,224,3),\n",
        "                                              include_top=False, \n",
        "                                              weights='imagenet')\n",
        "\n",
        "base_model.trainable = False"
      ],
      "execution_count": null,
      "outputs": []
    },
    {
      "cell_type": "markdown",
      "metadata": {
        "id": "qIOZMxqQJwgN",
        "colab_type": "text"
      },
      "source": [
        "# Create the model using the MobileNet V2 and additional layers"
      ]
    },
    {
      "cell_type": "code",
      "metadata": {
        "id": "7axOqy9aElnR",
        "colab_type": "code",
        "colab": {}
      },
      "source": [
        "model = tf.keras.Sequential([\n",
        "  base_model,\n",
        "  tf.keras.layers.Conv2D(32, 3, activation='relu'),\n",
        "  tf.keras.layers.Dropout(0.2),\n",
        "  tf.keras.layers.GlobalAveragePooling2D(),\n",
        "  tf.keras.layers.BatchNormalization(),\n",
        "  tf.keras.layers.Dense(5, activation='softmax')\n",
        "])"
      ],
      "execution_count": null,
      "outputs": []
    },
    {
      "cell_type": "markdown",
      "metadata": {
        "id": "qe2-OTQ6J-vU",
        "colab_type": "text"
      },
      "source": [
        "# Compile and check model summary"
      ]
    },
    {
      "cell_type": "code",
      "metadata": {
        "id": "2xLb98GWEwc6",
        "colab_type": "code",
        "colab": {
          "base_uri": "https://localhost:8080/",
          "height": 386
        },
        "outputId": "1a46e875-949e-4536-adbc-82688e46346b"
      },
      "source": [
        "model.compile(optimizer=tf.keras.optimizers.Adam(), \n",
        "              loss='categorical_crossentropy', \n",
        "              metrics=['accuracy'])\n",
        "model.summary()\n",
        "print('Number of trainable variables = {}'.format(len(model.trainable_variables)))"
      ],
      "execution_count": null,
      "outputs": [
        {
          "output_type": "stream",
          "text": [
            "Model: \"sequential_1\"\n",
            "_________________________________________________________________\n",
            "Layer (type)                 Output Shape              Param #   \n",
            "=================================================================\n",
            "mobilenetv2_1.00_224 (Model) (None, 7, 7, 1280)        2257984   \n",
            "_________________________________________________________________\n",
            "conv2d_1 (Conv2D)            (None, 5, 5, 32)          368672    \n",
            "_________________________________________________________________\n",
            "dropout_1 (Dropout)          (None, 5, 5, 32)          0         \n",
            "_________________________________________________________________\n",
            "global_average_pooling2d_1 ( (None, 32)                0         \n",
            "_________________________________________________________________\n",
            "batch_normalization_1 (Batch (None, 32)                128       \n",
            "_________________________________________________________________\n",
            "dense_1 (Dense)              (None, 5)                 165       \n",
            "=================================================================\n",
            "Total params: 2,626,949\n",
            "Trainable params: 368,901\n",
            "Non-trainable params: 2,258,048\n",
            "_________________________________________________________________\n",
            "Number of trainable variables = 6\n"
          ],
          "name": "stdout"
        }
      ]
    },
    {
      "cell_type": "markdown",
      "metadata": {
        "id": "xaaQMR-HKDPx",
        "colab_type": "text"
      },
      "source": [
        "# Train the Model"
      ]
    },
    {
      "cell_type": "code",
      "metadata": {
        "id": "k55Hv80EFVsL",
        "colab_type": "code",
        "colab": {
          "base_uri": "https://localhost:8080/",
          "height": 721
        },
        "outputId": "3f5d3784-faea-420b-8cac-b3eaa27607de"
      },
      "source": [
        "history = model.fit(train_generator, \n",
        "                    steps_per_epoch=len(train_generator), \n",
        "                    epochs=20, \n",
        "                    validation_data=validation_generator, \n",
        "                    validation_steps=len(validation_generator))"
      ],
      "execution_count": null,
      "outputs": [
        {
          "output_type": "stream",
          "text": [
            "Epoch 1/20\n",
            "11/11 [==============================] - 7s 611ms/step - loss: 1.4299 - accuracy: 0.5242 - val_loss: 2.3733 - val_accuracy: 0.4875\n",
            "Epoch 2/20\n",
            "11/11 [==============================] - 6s 514ms/step - loss: 0.7462 - accuracy: 0.7303 - val_loss: 1.6148 - val_accuracy: 0.7125\n",
            "Epoch 3/20\n",
            "11/11 [==============================] - 6s 513ms/step - loss: 0.6739 - accuracy: 0.7545 - val_loss: 1.1706 - val_accuracy: 0.7000\n",
            "Epoch 4/20\n",
            "11/11 [==============================] - 6s 511ms/step - loss: 0.6279 - accuracy: 0.7667 - val_loss: 1.1014 - val_accuracy: 0.7000\n",
            "Epoch 5/20\n",
            "11/11 [==============================] - 6s 508ms/step - loss: 0.5330 - accuracy: 0.8152 - val_loss: 1.0469 - val_accuracy: 0.7125\n",
            "Epoch 6/20\n",
            "11/11 [==============================] - 6s 508ms/step - loss: 0.4407 - accuracy: 0.8333 - val_loss: 0.9210 - val_accuracy: 0.7000\n",
            "Epoch 7/20\n",
            "11/11 [==============================] - 6s 589ms/step - loss: 0.3902 - accuracy: 0.8667 - val_loss: 0.7301 - val_accuracy: 0.7875\n",
            "Epoch 8/20\n",
            "11/11 [==============================] - 6s 549ms/step - loss: 0.4257 - accuracy: 0.8455 - val_loss: 0.9462 - val_accuracy: 0.7125\n",
            "Epoch 9/20\n",
            "11/11 [==============================] - 6s 516ms/step - loss: 0.3904 - accuracy: 0.8667 - val_loss: 0.8252 - val_accuracy: 0.7000\n",
            "Epoch 10/20\n",
            "11/11 [==============================] - 6s 517ms/step - loss: 0.4088 - accuracy: 0.8727 - val_loss: 0.9617 - val_accuracy: 0.7500\n",
            "Epoch 11/20\n",
            "11/11 [==============================] - 6s 514ms/step - loss: 0.3147 - accuracy: 0.9030 - val_loss: 0.8953 - val_accuracy: 0.6875\n",
            "Epoch 12/20\n",
            "11/11 [==============================] - 6s 517ms/step - loss: 0.3366 - accuracy: 0.8970 - val_loss: 0.9708 - val_accuracy: 0.7375\n",
            "Epoch 13/20\n",
            "11/11 [==============================] - 6s 519ms/step - loss: 0.3421 - accuracy: 0.8818 - val_loss: 0.6607 - val_accuracy: 0.7625\n",
            "Epoch 14/20\n",
            "11/11 [==============================] - 6s 511ms/step - loss: 0.2826 - accuracy: 0.9152 - val_loss: 0.6229 - val_accuracy: 0.7625\n",
            "Epoch 15/20\n",
            "11/11 [==============================] - 6s 516ms/step - loss: 0.2725 - accuracy: 0.9182 - val_loss: 0.7292 - val_accuracy: 0.7000\n",
            "Epoch 16/20\n",
            "11/11 [==============================] - 6s 514ms/step - loss: 0.2741 - accuracy: 0.9061 - val_loss: 0.8317 - val_accuracy: 0.7875\n",
            "Epoch 17/20\n",
            "11/11 [==============================] - 6s 516ms/step - loss: 0.2873 - accuracy: 0.9152 - val_loss: 0.8345 - val_accuracy: 0.7625\n",
            "Epoch 18/20\n",
            "11/11 [==============================] - 6s 518ms/step - loss: 0.2600 - accuracy: 0.9091 - val_loss: 0.7849 - val_accuracy: 0.7250\n",
            "Epoch 19/20\n",
            "11/11 [==============================] - 6s 514ms/step - loss: 0.2414 - accuracy: 0.9303 - val_loss: 0.8205 - val_accuracy: 0.7250\n",
            "Epoch 20/20\n",
            "11/11 [==============================] - 6s 525ms/step - loss: 0.1993 - accuracy: 0.9455 - val_loss: 1.1505 - val_accuracy: 0.7250\n"
          ],
          "name": "stdout"
        }
      ]
    },
    {
      "cell_type": "markdown",
      "metadata": {
        "id": "BscgwRtcKF56",
        "colab_type": "text"
      },
      "source": [
        "# For Fine Tuning, unfreeze ONLY the top layer"
      ]
    },
    {
      "cell_type": "code",
      "metadata": {
        "id": "WwRTZusWJFNJ",
        "colab_type": "code",
        "colab": {}
      },
      "source": [
        "base_model.trainable = True"
      ],
      "execution_count": null,
      "outputs": []
    },
    {
      "cell_type": "code",
      "metadata": {
        "id": "UrRcbpKeJKL6",
        "colab_type": "code",
        "colab": {
          "base_uri": "https://localhost:8080/",
          "height": 34
        },
        "outputId": "1be2c22c-367f-47f1-d173-26ec31a9c708"
      },
      "source": [
        "print(\"Number of layers in the base model: \", len(base_model.layers))\n",
        "fine_tune_at = len(base_model.layers)"
      ],
      "execution_count": null,
      "outputs": [
        {
          "output_type": "stream",
          "text": [
            "Number of layers in the base model:  155\n"
          ],
          "name": "stdout"
        }
      ]
    },
    {
      "cell_type": "code",
      "metadata": {
        "id": "Ze-ZGtmNKkML",
        "colab_type": "code",
        "colab": {}
      },
      "source": [
        "for layer in base_model.layers[:fine_tune_at]:\n",
        "  layer.trainable =  False"
      ],
      "execution_count": null,
      "outputs": []
    },
    {
      "cell_type": "markdown",
      "metadata": {
        "id": "rr9zhyaQMntD",
        "colab_type": "text"
      },
      "source": [
        "# Compile the model with using much lower training rate"
      ]
    },
    {
      "cell_type": "code",
      "metadata": {
        "id": "s1usn2QQMtKn",
        "colab_type": "code",
        "colab": {
          "base_uri": "https://localhost:8080/",
          "height": 386
        },
        "outputId": "993e222a-44ae-4fe4-9c48-e2029b684f5e"
      },
      "source": [
        "model.compile(loss='categorical_crossentropy',\n",
        "              optimizer = tf.keras.optimizers.Adam(1e-5),\n",
        "              metrics=['accuracy'])\n",
        "\n",
        "model.summary()\n",
        "\n",
        "print('Number of trainable variables = {}'.format(len(model.trainable_variables)))"
      ],
      "execution_count": null,
      "outputs": [
        {
          "output_type": "stream",
          "text": [
            "Model: \"sequential_1\"\n",
            "_________________________________________________________________\n",
            "Layer (type)                 Output Shape              Param #   \n",
            "=================================================================\n",
            "mobilenetv2_1.00_224 (Model) (None, 7, 7, 1280)        2257984   \n",
            "_________________________________________________________________\n",
            "conv2d_1 (Conv2D)            (None, 5, 5, 32)          368672    \n",
            "_________________________________________________________________\n",
            "dropout_1 (Dropout)          (None, 5, 5, 32)          0         \n",
            "_________________________________________________________________\n",
            "global_average_pooling2d_1 ( (None, 32)                0         \n",
            "_________________________________________________________________\n",
            "batch_normalization_1 (Batch (None, 32)                128       \n",
            "_________________________________________________________________\n",
            "dense_1 (Dense)              (None, 5)                 165       \n",
            "=================================================================\n",
            "Total params: 2,626,949\n",
            "Trainable params: 368,901\n",
            "Non-trainable params: 2,258,048\n",
            "_________________________________________________________________\n",
            "Number of trainable variables = 6\n"
          ],
          "name": "stdout"
        }
      ]
    },
    {
      "cell_type": "markdown",
      "metadata": {
        "id": "fUHMnYBJM0jq",
        "colab_type": "text"
      },
      "source": [
        "# Train the model once again"
      ]
    },
    {
      "cell_type": "code",
      "metadata": {
        "id": "0g1d10_EMuqZ",
        "colab_type": "code",
        "colab": {
          "base_uri": "https://localhost:8080/",
          "height": 369
        },
        "outputId": "f5798fbc-71ee-4a43-c606-9a38b3e837aa"
      },
      "source": [
        "history_fine = model.fit(train_generator, \n",
        "                         steps_per_epoch=len(train_generator), \n",
        "                         epochs=10, \n",
        "                         validation_data=validation_generator, \n",
        "                         validation_steps=len(validation_generator))"
      ],
      "execution_count": null,
      "outputs": [
        {
          "output_type": "stream",
          "text": [
            "Epoch 1/10\n",
            "11/11 [==============================] - 7s 630ms/step - loss: 0.2197 - accuracy: 0.9182 - val_loss: 1.1178 - val_accuracy: 0.7375\n",
            "Epoch 2/10\n",
            "11/11 [==============================] - 6s 544ms/step - loss: 0.2479 - accuracy: 0.9182 - val_loss: 0.9569 - val_accuracy: 0.6625\n",
            "Epoch 3/10\n",
            "11/11 [==============================] - 6s 534ms/step - loss: 0.2420 - accuracy: 0.9242 - val_loss: 0.8489 - val_accuracy: 0.7250\n",
            "Epoch 4/10\n",
            "11/11 [==============================] - 6s 534ms/step - loss: 0.2067 - accuracy: 0.9152 - val_loss: 0.8523 - val_accuracy: 0.6500\n",
            "Epoch 5/10\n",
            "11/11 [==============================] - 6s 512ms/step - loss: 0.2337 - accuracy: 0.9303 - val_loss: 0.9890 - val_accuracy: 0.7750\n",
            "Epoch 6/10\n",
            "11/11 [==============================] - 6s 535ms/step - loss: 0.2356 - accuracy: 0.9303 - val_loss: 0.8710 - val_accuracy: 0.7250\n",
            "Epoch 7/10\n",
            "11/11 [==============================] - 6s 516ms/step - loss: 0.2051 - accuracy: 0.9455 - val_loss: 0.8379 - val_accuracy: 0.7125\n",
            "Epoch 8/10\n",
            "11/11 [==============================] - 6s 515ms/step - loss: 0.2288 - accuracy: 0.9424 - val_loss: 0.6959 - val_accuracy: 0.7625\n",
            "Epoch 9/10\n",
            "11/11 [==============================] - 6s 516ms/step - loss: 0.2271 - accuracy: 0.9273 - val_loss: 0.8383 - val_accuracy: 0.7750\n",
            "Epoch 10/10\n",
            "11/11 [==============================] - 6s 515ms/step - loss: 0.2261 - accuracy: 0.9303 - val_loss: 0.8767 - val_accuracy: 0.7375\n"
          ],
          "name": "stdout"
        }
      ]
    },
    {
      "cell_type": "code",
      "metadata": {
        "id": "DSdzzUsWKlT7",
        "colab_type": "code",
        "colab": {
          "base_uri": "https://localhost:8080/",
          "height": 513
        },
        "outputId": "838cdede-74ce-49db-9b5a-4abd9227dc88"
      },
      "source": [
        "acc = history_fine.history['accuracy']\n",
        "val_acc = history_fine.history['val_accuracy']\n",
        "\n",
        "loss = history_fine.history['loss']\n",
        "val_loss = history_fine.history['val_loss']\n",
        "\n",
        "plt.figure(figsize=(8, 8))\n",
        "plt.subplot(2, 1, 1)\n",
        "plt.plot(acc, label='Training Accuracy')\n",
        "plt.plot(val_acc, label='Validation Accuracy')\n",
        "plt.legend(loc='lower right')\n",
        "plt.ylabel('Accuracy')\n",
        "plt.ylim([min(plt.ylim()),1])\n",
        "plt.title('Training and Validation Accuracy')\n",
        "\n",
        "plt.subplot(2, 1, 2)\n",
        "plt.plot(loss, label='Training Loss')\n",
        "plt.plot(val_loss, label='Validation Loss')\n",
        "plt.legend(loc='upper right')\n",
        "plt.ylabel('Cross Entropy')\n",
        "plt.ylim([0,1.0])\n",
        "plt.title('Training and Validation Loss')\n",
        "plt.xlabel('epoch')\n",
        "plt.show()"
      ],
      "execution_count": null,
      "outputs": [
        {
          "output_type": "display_data",
          "data": {
            "image/png": "[encoded data removed]",
            "text/plain": [
              "<Figure size 576x576 with 2 Axes>"
            ]
          },
          "metadata": {
            "tags": [],
            "needs_background": "light"
          }
        }
      ]
    },
    {
      "cell_type": "code",
      "metadata": {
        "id": "VxdZtVMMzuWC",
        "colab_type": "code",
        "colab": {
          "base_uri": "https://localhost:8080/",
          "height": 52
        },
        "outputId": "4a809a96-edfd-4c19-aa6f-06c9b894b13a"
      },
      "source": [
        "\n",
        "model.evaluate(test_generator)"
      ],
      "execution_count": null,
      "outputs": [
        {
          "output_type": "stream",
          "text": [
            "4/4 [==============================] - 1s 184ms/step - loss: 0.7362 - accuracy: 0.7381\n"
          ],
          "name": "stdout"
        },
        {
          "output_type": "execute_result",
          "data": {
            "text/plain": [
              "[0.7361730337142944, 0.738095223903656]"
            ]
          },
          "metadata": {
            "tags": []
          },
          "execution_count": 32
        }
      ]
    },
    {
      "cell_type": "markdown",
      "metadata": {
        "id": "fig2LKE5NGmg",
        "colab_type": "text"
      },
      "source": [
        "# Convert the model into TFLite"
      ]
    },
    {
      "cell_type": "code",
      "metadata": {
        "id": "YddRb5dzNOKw",
        "colab_type": "code",
        "colab": {
          "base_uri": "https://localhost:8080/",
          "height": 107
        },
        "outputId": "440c05cb-4282-4830-8b8d-3631f48384e5"
      },
      "source": [
        "saved_model_dir = 'save/fine_tuning'\n",
        "tf.saved_model.save(model, saved_model_dir)\n",
        "\n",
        "converter = tf.lite.TFLiteConverter.from_saved_model(saved_model_dir)\n",
        "tflite_model = converter.convert()\n",
        "\n",
        "with open('model.tflite', 'wb') as f:\n",
        "  f.write(tflite_model)"
      ],
      "execution_count": null,
      "outputs": [
        {
          "output_type": "stream",
          "text": [
            "WARNING:tensorflow:From /usr/local/lib/python3.6/dist-packages/tensorflow/python/ops/resource_variable_ops.py:1817: calling BaseResourceVariable.__init__ (from tensorflow.python.ops.resource_variable_ops) with constraint is deprecated and will be removed in a future version.\n",
            "Instructions for updating:\n",
            "If using Keras pass *_constraint arguments to layers.\n",
            "INFO:tensorflow:Assets written to: save/fine_tuning/assets\n"
          ],
          "name": "stdout"
        }
      ]
    },
    {
      "cell_type": "markdown",
      "metadata": {
        "id": "eyb3Ei0dNaXk",
        "colab_type": "text"
      },
      "source": [
        "**Download the TFLite model and labels**"
      ]
    },
    {
      "cell_type": "code",
      "metadata": {
        "id": "7oNotJkzNiSJ",
        "colab_type": "code",
        "colab": {}
      },
      "source": [
        "from google.colab import files\n",
        "\n",
        "files.download('model.tflite')\n",
        "files.download('labels.txt')"
      ],
      "execution_count": null,
      "outputs": []
    }
  ]
}